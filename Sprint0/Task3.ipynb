{
 "cells": [
  {
   "cell_type": "markdown",
   "metadata": {},
   "source": [
    "<h1 style=\"color:DodgerBlue\">Индивидальный проект</h1>"
   ]
  },
  {
   "cell_type": "markdown",
   "metadata": {},
   "source": [
    "<h2 style=\"color:DodgerBlue\">Название проекта:</h2>\n",
    "\n",
    "----\n",
    "\n",
    "### Вариант задания 8\n"
   ]
  },
  {
   "cell_type": "markdown",
   "metadata": {},
   "source": [
    "<h2 style=\"color:DodgerBlue\">Описание проекта:</h2>\n",
    "\n",
    "----\n",
    "\n",
    "[ваш текст]\n"
   ]
  },
  {
   "cell_type": "markdown",
   "metadata": {},
   "source": [
    "<h2 style=\"color:DodgerBlue\">Реализация:</h2>\n",
    "\n",
    "----"
   ]
  },
  {
   "cell_type": "code",
   "execution_count": 2,
   "metadata": {
    "dotnet_interactive": {
     "language": "csharp"
    },
    "polyglot_notebook": {
     "kernelName": "csharp"
    }
   },
   "outputs": [
    {
     "name": "stdout",
     "output_type": "stream",
     "text": [
      "Информация о карте: \n",
      "Номер карты: 1234 5678 9123 4567, Имя холдера: Дедка Колобок, Срок действия карты: 31/12/2026, Бонусов: 100\n",
      "С вашего счета 1234 5678 9123 4567 списано: 150. Оставшийся баланс: 4850\n",
      "Заработано 15 бонусов. Всего бонусов: 115\n",
      "\n",
      "Информация о карте: \n",
      "Номер карты: 9876 5432 1098 7654, Имя холдера: Егор Низинчук, Срок действия карты: 30/06/2025, Тех. Поддержка: Секретарь какой-то\n",
      "Баланс карты 9876 5432 1098 7654: 800\n",
      "\n",
      "Информация о карте: \n",
      "Номер карты: 4567 8901 2345 6789, Имя холдера: Генадий Горин, Срок действия карты: 15/09/2024, Компания: ооо Что-то там\n"
     ]
    }
   ],
   "source": [
    "public class CreditCard\n",
    "{\n",
    "    public string CardNumber;\n",
    "    public string HolderName;\n",
    "    public string ExpiryDate;\n",
    "    public decimal Balance;\n",
    "\n",
    "    public CreditCard (string _CardNumber, string _HolderName, string _ExpiryDate, decimal _Balance)\n",
    "    {\n",
    "        CardNumber = _CardNumber;\n",
    "        HolderName = _HolderName;\n",
    "        ExpiryDate = _ExpiryDate;\n",
    "        Balance = _Balance;\n",
    "    }\n",
    "    public virtual string GetInfo()\n",
    "    {\n",
    "        return $\"Информация о карте: \\nНомер карты: {CardNumber}, Имя холдера: {HolderName}, Срок действия карты: {ExpiryDate}\";\n",
    "    }\n",
    "    public virtual void Pay(decimal Sum)\n",
    "    {\n",
    "        if (Sum > Balance)\n",
    "        {\n",
    "            Console.WriteLine(\"На вашем счете недостаточно средств\");\n",
    "        }\n",
    "        else\n",
    "        {\n",
    "            Balance -= Sum;\n",
    "            Console.WriteLine($\"С вашего счета {CardNumber} списано: {Sum}. Оставшийся баланс: {Balance}\");\n",
    "        }\n",
    "    }\n",
    "    public virtual void CheckBalance()\n",
    "    {\n",
    "        Console.WriteLine($\"Баланс карты {CardNumber}: {Balance}\");\n",
    "    }\n",
    "}\n",
    "\n",
    "public class GoldCreditCard : CreditCard\n",
    "{\n",
    "    public decimal BonusMiles;\n",
    "    public GoldCreditCard(string _CardNumber, string _HolderName, string _ExpiryDate, decimal _Balance, decimal _BonusMiles)\n",
    "    : base(_CardNumber, _HolderName, _ExpiryDate, _Balance)\n",
    "    {\n",
    "        BonusMiles = _BonusMiles;\n",
    "    }\n",
    "    public override void Pay(decimal Sum)\n",
    "    {\n",
    "        base.Pay(Sum);\n",
    "        int earnedMiles = (int)(Sum / 10);\n",
    "        BonusMiles += earnedMiles;\n",
    "        Console.WriteLine($\"Заработано {earnedMiles} бонусов. Всего бонусов: {BonusMiles}\");\n",
    "    }\n",
    "    public override string GetInfo()\n",
    "    {\n",
    "        return base.GetInfo() + $\", Бонусов: {BonusMiles}\";\n",
    "    }\n",
    "}\n",
    "\n",
    "public class PremiumCreditCard : CreditCard\n",
    "{\n",
    "    public string SupportAssistant;\n",
    "\n",
    "    public PremiumCreditCard(string _CardNumber, string _HolderName, string _ExpiryDate, decimal _Balance, string _SupportAssistant)\n",
    "        : base(_CardNumber, _HolderName, _ExpiryDate, _Balance)\n",
    "    {\n",
    "        SupportAssistant = _SupportAssistant;\n",
    "    }\n",
    "\n",
    "    public override void CheckBalance()\n",
    "    {\n",
    "        base.CheckBalance();\n",
    "        if (Balance < 100)\n",
    "        {\n",
    "            Console.WriteLine($\"Ваш баланс меньше требуемого, обратитесь в поддержку: {SupportAssistant}.\");\n",
    "        }\n",
    "    }\n",
    "\n",
    "    public override string GetInfo()\n",
    "    {\n",
    "        return base.GetInfo() + $\", Тех. Поддержка: {SupportAssistant}\";\n",
    "    }\n",
    "}\n",
    "\n",
    "public class CorporateCreditCard : CreditCard\n",
    "{\n",
    "    public string Company;\n",
    "\n",
    "    public CorporateCreditCard(string _CardNumber, string _HolderName, string _ExpiryDate, decimal _Balance, string company)\n",
    "        : base(_CardNumber, _HolderName, _ExpiryDate, _Balance)\n",
    "    {\n",
    "        Company = company;\n",
    "    }\n",
    "\n",
    "    public override string GetInfo()\n",
    "    {\n",
    "        return base.GetInfo() + $\", Компания: {Company}\";\n",
    "    }\n",
    "}\n",
    "\n",
    "       \n",
    "        CreditCard goldCard = new GoldCreditCard(\"1234 5678 9123 4567\", \"Дедка Колобок\", \"31/12/2026\", 5000, 100);\n",
    "        CreditCard premiumCard = new PremiumCreditCard(\"9876 5432 1098 7654\", \"Егор Низинчук\", \"30/06/2025\", 800, \"Секретарь какой-то\");\n",
    "        CreditCard corporateCard = new CorporateCreditCard(\"4567 8901 2345 6789\", \"Генадий Горин\", \"15/09/2024\", 10000, \"ооо Что-то там\");\n",
    "\n",
    "    \n",
    "        Console.WriteLine(goldCard.GetInfo());\n",
    "        goldCard.Pay(150);\n",
    "\n",
    "        Console.WriteLine(\"\\n\" + premiumCard.GetInfo());\n",
    "        premiumCard.CheckBalance();\n",
    "\n",
    "        Console.WriteLine(\"\\n\" + corporateCard.GetInfo());"
   ]
  }
 ],
 "metadata": {
  "kernelspec": {
   "display_name": ".NET (C#)",
   "language": "C#",
   "name": ".net-csharp"
  },
  "polyglot_notebook": {
   "kernelInfo": {
    "defaultKernelName": "csharp",
    "items": [
     {
      "aliases": [],
      "languageName": "csharp",
      "name": "csharp"
     }
    ]
   }
  }
 },
 "nbformat": 4,
 "nbformat_minor": 2
}
